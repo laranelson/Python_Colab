{
  "nbformat": 4,
  "nbformat_minor": 0,
  "metadata": {
    "colab": {
      "name": "Untitled9.ipynb",
      "provenance": [],
      "authorship_tag": "ABX9TyOMcaJn2gt7We3hRSJfsa+z",
      "include_colab_link": true
    },
    "kernelspec": {
      "name": "python3",
      "display_name": "Python 3"
    },
    "language_info": {
      "name": "python"
    }
  },
  "cells": [
    {
      "cell_type": "markdown",
      "metadata": {
        "id": "view-in-github",
        "colab_type": "text"
      },
      "source": [
        "<a href=\"https://colab.research.google.com/github/laranelson/Python_Colab/blob/main/Desafios.ipynb\" target=\"_parent\"><img src=\"https://colab.research.google.com/assets/colab-badge.svg\" alt=\"Open In Colab\"/></a>"
      ]
    },
    {
      "cell_type": "code",
      "execution_count": 36,
      "metadata": {
        "colab": {
          "base_uri": "https://localhost:8080/"
        },
        "id": "b_eZGGlUU2j9",
        "outputId": "dd90f88b-c77e-4be3-bb37-5a36a349c53f"
      },
      "outputs": [
        {
          "output_type": "stream",
          "name": "stdout",
          "text": [
            "Digite um numero inteiro: 2.3\n",
            "2.3 não é inteiro\n"
          ]
        }
      ],
      "source": [
        "entrada = input('Digite um numero inteiro: ')\n",
        "\n",
        "\n",
        "if entrada.isdigit():\n",
        "  numero = int(entrada)\n",
        "\n",
        "  if numero % 2 == 0:\n",
        "    print(f'{numero} é par!')\n",
        "  else:\n",
        "    print(f'{numero} é impar!')\n",
        "else:\n",
        "  print(f'{entrada} não é inteiro')"
      ]
    },
    {
      "cell_type": "code",
      "source": [
        "nome = input('Qual o seu nome: ')\n",
        "\n",
        "x = len(nome)\n",
        "\n",
        "if x < 5:\n",
        "  print('Nome curto')\n",
        "elif x < 7:\n",
        "  print('Nome normal')\n",
        "else:\n",
        "  print('Nome grande:')"
      ],
      "metadata": {
        "colab": {
          "base_uri": "https://localhost:8080/"
        },
        "id": "L5HnhWWfWXwN",
        "outputId": "880dd012-42b5-4e67-d015-561c4f7ba6c0"
      },
      "execution_count": 16,
      "outputs": [
        {
          "output_type": "stream",
          "name": "stdout",
          "text": [
            "Qual o seu nome: dadadao\n",
            "nome grande\n"
          ]
        }
      ]
    }
  ]
}